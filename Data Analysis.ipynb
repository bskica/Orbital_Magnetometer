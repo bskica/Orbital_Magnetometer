{
 "cells": [
  {
   "cell_type": "markdown",
   "metadata": {},
   "source": [
    "# Analysis of Magnetometer Data From Simulated Earth Orbit\n",
    "\n",
    "## Data for 100 orbits, no eccentricity \n",
    "\n",
    "The first set of simulation data analyzed was for a perfectly circular,spin-stabilized equatorial orbit run for about 7 days."
   ]
  },
  {
   "cell_type": "code",
   "execution_count": 1,
   "metadata": {},
   "outputs": [
    {
     "ename": "IndentationError",
     "evalue": "unindent does not match any outer indentation level (smoothing.py, line 15)",
     "output_type": "error",
     "traceback": [
      "Traceback \u001b[0;36m(most recent call last)\u001b[0m:\n",
      "  File \u001b[1;32m\"/usr/lib/python3/dist-packages/IPython/core/interactiveshell.py\"\u001b[0m, line \u001b[1;32m3418\u001b[0m, in \u001b[1;35mrun_code\u001b[0m\n    exec(code_obj, self.user_global_ns, self.user_ns)\n",
      "\u001b[0;36m  File \u001b[0;32m\"<ipython-input-1-917833e96e88>\"\u001b[0;36m, line \u001b[0;32m10\u001b[0;36m, in \u001b[0;35m<module>\u001b[0;36m\u001b[0m\n\u001b[0;31m    from smoothing import smoothTriangle\u001b[0m\n",
      "\u001b[0;36m  File \u001b[0;32m\"src/smoothing.py\"\u001b[0;36m, line \u001b[0;32m15\u001b[0m\n\u001b[0;31m    '''\u001b[0m\n\u001b[0m       ^\u001b[0m\n\u001b[0;31mIndentationError\u001b[0m\u001b[0;31m:\u001b[0m unindent does not match any outer indentation level\n"
     ]
    }
   ],
   "source": [
    "import numpy as np\n",
    "import scipy\n",
    "import matplotlib.pyplot as plt\n",
    "from scipy import signal\n",
    "import sys\n",
    "sys.path.append(\"src\")\n",
    "#import algorithms\n",
    "from sinefit import sinfit     \n",
    "from peakfinder import peakfinder\n",
    "from smoothing import smoothTriangle\n",
    "\n",
    "# import data from csv\n",
    "data = np.genfromtxt('Data_Sets/e0_10O_axis.csv', delimiter=',')\n",
    "time = data[:,0]\n",
    "x_data = data[:,1]\n",
    "y_data = data[:,2]\n",
    "z_data = data[:,3]\n",
    "\n",
    "# scalar magnitude used to allow for easier identification of orbit parameters\n",
    "b_mag = np.sqrt((x_data)**2 + (y_data)**2 + (z_data)**2)\n",
    "\n",
    "\n",
    "plt.rcParams[\"figure.figsize\"]=15,10 \n",
    "plt.plot(time, b_mag)\n",
    "plt.title('Raw Data For Field Magnitude (100 0rbits, $\\epsilon$ = 0.006)')\n",
    "plt.xlabel('Simulation Time (min)')\n",
    "plt.ylabel('B-Field Magnitude (nT)')\n"
   ]
  },
  {
   "cell_type": "markdown",
   "metadata": {},
   "source": [
    "### Raw Data:\n",
    "\n",
    "As expected there is little variation in the data due to the perfect orbit. The slight discrepancies in the peak values can be attributed completely to the noise modeling factored into the simulation\n",
    "\n",
    "\n",
    "## Sinusoid Fitting:"
   ]
  },
  {
   "cell_type": "code",
   "execution_count": null,
   "metadata": {},
   "outputs": [],
   "source": [
    "res = sinfit(time, b_mag)\n",
    "plt.plot(time, res[\"fitfunc\"](time), \"r-\", label=\"y fit curve\", linewidth=4)\n",
    "plt.plot(time, b_mag)\n",
    "print('Fit parameters: ', res)\n",
    "\n",
    "# outputs parameters of the fitted sine function. "
   ]
  },
  {
   "cell_type": "markdown",
   "metadata": {},
   "source": [
    "## Fit Analysis:\n",
    "\n",
    "Through application of optical analysis, "
   ]
  },
  {
   "cell_type": "code",
   "execution_count": null,
   "metadata": {},
   "outputs": [],
   "source": []
  },
  {
   "cell_type": "code",
   "execution_count": null,
   "metadata": {},
   "outputs": [],
   "source": [
    "\n",
    "\n",
    "smooth = smoothTriangle(b_mag, 200)\n",
    "plt.plot(time, smooth)"
   ]
  },
  {
   "cell_type": "code",
   "execution_count": null,
   "metadata": {},
   "outputs": [],
   "source": [
    "def peakfinder(data):\n",
    "    peaks = []\n",
    "    for i in range(len(time)-1):\n",
    "        if data[i]>data[i+1] and data[i]>data[i-1] and data[i]>data[i+10] and data[i]>data[i-10]:\n",
    "            peaks.append(data[i])\n",
    "    return peaks\n",
    "\n",
    "print(peakfinder(smooth))\n"
   ]
  },
  {
   "cell_type": "code",
   "execution_count": null,
   "metadata": {},
   "outputs": [],
   "source": [
    "smooth = np.array(smooth)\n",
    "ind_max = scipy.signal.argrelmax(smooth)\n",
    "ind_min = scipy.signal.argrelmin(smooth)\n",
    "print(ind_max)"
   ]
  },
  {
   "cell_type": "code",
   "execution_count": null,
   "metadata": {
    "scrolled": false
   },
   "outputs": [],
   "source": [
    "mxtime = []\n",
    "mxdata = []\n",
    "time2 = []\n",
    "data2 = []\n",
    "\n",
    "for i in ind_max: \n",
    "    mxtime = time[i]\n",
    "    mxdata = b_mag[i]\n",
    "    \n",
    "\n",
    "\n",
    "        \n",
    "        \n",
    "mxsmooth = smoothTriangle(mxdata, 4)\n",
    "\n",
    "\n",
    "bfit = sinfit(mxtime, mxsmooth)\n",
    "plt.plot(time, bfit[\"fitfunc\"](time), \"r-\", label=\"y fit curve\", linewidth=4)\n",
    "plt.scatter(mxtime, mxdata)\n"
   ]
  },
  {
   "cell_type": "code",
   "execution_count": null,
   "metadata": {
    "scrolled": true
   },
   "outputs": [],
   "source": [
    "print(bfit)"
   ]
  },
  {
   "cell_type": "code",
   "execution_count": null,
   "metadata": {},
   "outputs": [],
   "source": [
    "1457.480870651502/60"
   ]
  },
  {
   "cell_type": "code",
   "execution_count": null,
   "metadata": {},
   "outputs": [],
   "source": []
  },
  {
   "cell_type": "code",
   "execution_count": null,
   "metadata": {},
   "outputs": [],
   "source": []
  },
  {
   "cell_type": "code",
   "execution_count": null,
   "metadata": {},
   "outputs": [],
   "source": []
  }
 ],
 "metadata": {
  "kernelspec": {
   "display_name": "Python 3",
   "language": "python",
   "name": "python3"
  },
  "language_info": {
   "codemirror_mode": {
    "name": "ipython",
    "version": 3
   },
   "file_extension": ".py",
   "mimetype": "text/x-python",
   "name": "python",
   "nbconvert_exporter": "python",
   "pygments_lexer": "ipython3",
   "version": "3.9.0+"
  }
 },
 "nbformat": 4,
 "nbformat_minor": 4
}
